{
 "cells": [
  {
   "cell_type": "code",
   "execution_count": 1,
   "metadata": {},
   "outputs": [
    {
     "name": "stdout",
     "output_type": "stream",
     "text": [
      "Model training complete and churn_model.pkl saved.\n"
     ]
    }
   ],
   "source": [
    "import pandas as pd\n",
    "from sklearn.model_selection import train_test_split\n",
    "from sklearn.linear_model import LogisticRegression\n",
    "import pickle\n",
    "\n",
    "def train_and_save_model():\n",
    "    # Example synthetic data, or you can replace it with real dataset\n",
    "    # Suppose we have a CSV with columns: [\"tenure\", \"monthly_charges\", \"contract_type\", \"churn\"]\n",
    "    # For demonstration, let's create a small DataFrame\n",
    "    data = {\n",
    "        \"tenure\": [1, 12, 24, 5, 2, 48, 3, 36, 6, 10],\n",
    "        \"monthly_charges\": [20, 70, 90, 30, 25, 120, 27, 100, 35, 50],\n",
    "        \"contract_type\": [0, 1, 1, 0, 0, 1, 0, 1, 0, 1],  # e.g., 0=month-to-month, 1=annual\n",
    "        \"churn\": [0, 0, 1, 0, 1, 0, 1, 0, 1, 0]\n",
    "    }\n",
    "    df = pd.DataFrame(data)\n",
    "\n",
    "    X = df[[\"tenure\", \"monthly_charges\", \"contract_type\"]]\n",
    "    y = df[\"churn\"]\n",
    "\n",
    "    # Split data\n",
    "    X_train, X_test, y_train, y_test = train_test_split(X, y, test_size=0.2, random_state=42)\n",
    "\n",
    "    # Initialize and train logistic regression model\n",
    "    model = LogisticRegression()\n",
    "    model.fit(X_train, y_train)\n",
    "\n",
    "    # Save model to pkl\n",
    "    with open(\"churn_model.pkl\", \"wb\") as f:\n",
    "        pickle.dump(model, f)\n",
    "    \n",
    "    print(\"Model training complete and churn_model.pkl saved.\")\n",
    "\n",
    "if __name__ == \"__main__\":\n",
    "    train_and_save_model()\n"
   ]
  }
 ],
 "metadata": {
  "kernelspec": {
   "display_name": "churnenv",
   "language": "python",
   "name": "python3"
  },
  "language_info": {
   "codemirror_mode": {
    "name": "ipython",
    "version": 3
   },
   "file_extension": ".py",
   "mimetype": "text/x-python",
   "name": "python",
   "nbconvert_exporter": "python",
   "pygments_lexer": "ipython3",
   "version": "3.10.13"
  }
 },
 "nbformat": 4,
 "nbformat_minor": 2
}
